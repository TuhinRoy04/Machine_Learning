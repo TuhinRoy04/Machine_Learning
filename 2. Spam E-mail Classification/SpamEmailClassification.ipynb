{
 "cells": [
  {
   "cell_type": "markdown",
   "metadata": {},
   "source": [
    "# Train the model"
   ]
  },
  {
   "cell_type": "code",
   "execution_count": null,
   "metadata": {},
   "outputs": [],
   "source": [
    "import pandas as pd\n",
    "from sklearn.feature_extraction.text import CountVectorizer\n",
    "from sklearn.naive_bayes import MultinomialNB\n",
    "from sklearn.model_selection import train_test_split\n",
    "df=pd.read_csv(\"emails.csv\")\n",
    "df.drop_duplicates(inplace=True)\n",
    "X=df.text.values\n",
    "y=df.spam.values\n",
    "X_train,X_test,y_train,y_test=train_test_split(X,y,test_size=0.2,random_state=10)\n",
    "cv=CountVectorizer()\n",
    "X_train=cv.fit_transform(X_train)\n",
    "X_train.toarray()\n",
    "model=MultinomialNB()\n",
    "model=model.fit(X_train,y_train)\n",
    "X_test=cv.transform(X_test)\n",
    "model.predict(X_test)\n",
    "print(\"Train data accuracy :\",(model.score(X_train,y_train)*100).round(2),\"%\")\n",
    "print(\"\\nTest data accuracy :\",(model.score(X_test,y_test)*100).round(2),\"%\")"
   ]
  },
  {
   "cell_type": "markdown",
   "metadata": {},
   "source": [
    "# Predict any mail"
   ]
  },
  {
   "cell_type": "code",
   "execution_count": null,
   "metadata": {},
   "outputs": [],
   "source": [
    "email=input(\"Enter e-mail : \")\n",
    "cv_mail=cv.transform([email])\n",
    "prediction=model.predict(cv_mail)\n",
    "if (prediction[0]==0):\n",
    "    print(\"\\nMESSAGE RECIEVED - [CHECK INBOX]\")\n",
    "else:\n",
    "    print(\"\\nMESSAGE RECEIVED - [CHECK SPAM FOLDER]\")"
   ]
  },
  {
   "cell_type": "code",
   "execution_count": null,
   "metadata": {},
   "outputs": [],
   "source": []
  }
 ],
 "metadata": {
  "kernelspec": {
   "display_name": "Python 3",
   "language": "python",
   "name": "python3"
  },
  "language_info": {
   "codemirror_mode": {
    "name": "ipython",
    "version": 3
   },
   "file_extension": ".py",
   "mimetype": "text/x-python",
   "name": "python",
   "nbconvert_exporter": "python",
   "pygments_lexer": "ipython3",
   "version": "3.7.6"
  }
 },
 "nbformat": 4,
 "nbformat_minor": 4
}
