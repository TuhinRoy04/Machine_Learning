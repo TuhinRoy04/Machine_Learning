{
 "cells": [
  {
   "cell_type": "code",
   "execution_count": 3,
   "metadata": {},
   "outputs": [
    {
     "name": "stdout",
     "output_type": "stream",
     "text": [
      "Cedric himself knew nothing\n",
      "whatever about it. It had never been\n",
      "even mentioned to him. He knew that\n",
      "his papa had been an Englishman,\n",
      "because his mamma had told him so;\n",
      "but then his papa had died when he\n",
      "was 50 little a boy that he could not\n",
      "remember very much about him,\n",
      "except that he was big, and had blue\n",
      "eyes and a long mustache, and that it\n",
      "was a splendid thing to be carried\n",
      "around the room on his shoulder.\n"
     ]
    }
   ],
   "source": [
    "import pytesseract\n",
    "from PIL import Image\n",
    "pytesseract.pytesseract.tesseract_cmd = 'C:/Program Files/Tesseract-OCR/tesseract.exe'\n",
    "path= r'1.png'\n",
    "img = Image.open(path)\n",
    "text=pytesseract.image_to_string(img,lang=\"eng\") #use lang=\"beng\" for bengali\n",
    "print(text.strip())"
   ]
  }
 ],
 "metadata": {
  "kernelspec": {
   "display_name": "Python 3",
   "language": "python",
   "name": "python3"
  },
  "language_info": {
   "codemirror_mode": {
    "name": "ipython",
    "version": 3
   },
   "file_extension": ".py",
   "mimetype": "text/x-python",
   "name": "python",
   "nbconvert_exporter": "python",
   "pygments_lexer": "ipython3",
   "version": "3.7.6"
  }
 },
 "nbformat": 4,
 "nbformat_minor": 4
}
