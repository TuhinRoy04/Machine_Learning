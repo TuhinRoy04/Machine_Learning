{
 "cells": [
  {
   "cell_type": "code",
   "execution_count": 1,
   "metadata": {},
   "outputs": [
    {
     "name": "stderr",
     "output_type": "stream",
     "text": [
      "Using TensorFlow backend.\n"
     ]
    }
   ],
   "source": [
    "import cv2\n",
    "from deepface import DeepFace"
   ]
  },
  {
   "cell_type": "code",
   "execution_count": 2,
   "metadata": {},
   "outputs": [
    {
     "name": "stdout",
     "output_type": "stream",
     "text": [
      "Actions to do:  ['age', 'gender']\n",
      "WARNING:tensorflow:From C:\\Users\\Tuhin Roy\\anaconda3\\lib\\site-packages\\keras\\backend\\tensorflow_backend.py:74: The name tf.get_default_graph is deprecated. Please use tf.compat.v1.get_default_graph instead.\n",
      "\n",
      "WARNING:tensorflow:From C:\\Users\\Tuhin Roy\\anaconda3\\lib\\site-packages\\keras\\backend\\tensorflow_backend.py:517: The name tf.placeholder is deprecated. Please use tf.compat.v1.placeholder instead.\n",
      "\n",
      "WARNING:tensorflow:From C:\\Users\\Tuhin Roy\\anaconda3\\lib\\site-packages\\keras\\backend\\tensorflow_backend.py:4138: The name tf.random_uniform is deprecated. Please use tf.random.uniform instead.\n",
      "\n",
      "WARNING:tensorflow:From C:\\Users\\Tuhin Roy\\anaconda3\\lib\\site-packages\\keras\\backend\\tensorflow_backend.py:3976: The name tf.nn.max_pool is deprecated. Please use tf.nn.max_pool2d instead.\n",
      "\n",
      "WARNING:tensorflow:From C:\\Users\\Tuhin Roy\\anaconda3\\lib\\site-packages\\keras\\backend\\tensorflow_backend.py:133: The name tf.placeholder_with_default is deprecated. Please use tf.compat.v1.placeholder_with_default instead.\n",
      "\n",
      "WARNING:tensorflow:From C:\\Users\\Tuhin Roy\\anaconda3\\lib\\site-packages\\keras\\backend\\tensorflow_backend.py:3445: calling dropout (from tensorflow.python.ops.nn_ops) with keep_prob is deprecated and will be removed in a future version.\n",
      "Instructions for updating:\n",
      "Please use `rate` instead of `keep_prob`. Rate should be set to `rate = 1 - keep_prob`.\n",
      "WARNING:tensorflow:From C:\\Users\\Tuhin Roy\\anaconda3\\lib\\site-packages\\keras\\backend\\tensorflow_backend.py:174: The name tf.get_default_session is deprecated. Please use tf.compat.v1.get_default_session instead.\n",
      "\n",
      "WARNING:tensorflow:From C:\\Users\\Tuhin Roy\\anaconda3\\lib\\site-packages\\keras\\backend\\tensorflow_backend.py:181: The name tf.ConfigProto is deprecated. Please use tf.compat.v1.ConfigProto instead.\n",
      "\n",
      "WARNING:tensorflow:From C:\\Users\\Tuhin Roy\\anaconda3\\lib\\site-packages\\keras\\backend\\tensorflow_backend.py:186: The name tf.Session is deprecated. Please use tf.compat.v1.Session instead.\n",
      "\n",
      "WARNING:tensorflow:From C:\\Users\\Tuhin Roy\\anaconda3\\lib\\site-packages\\keras\\backend\\tensorflow_backend.py:190: The name tf.global_variables is deprecated. Please use tf.compat.v1.global_variables instead.\n",
      "\n",
      "WARNING:tensorflow:From C:\\Users\\Tuhin Roy\\anaconda3\\lib\\site-packages\\keras\\backend\\tensorflow_backend.py:199: The name tf.is_variable_initialized is deprecated. Please use tf.compat.v1.is_variable_initialized instead.\n",
      "\n",
      "WARNING:tensorflow:From C:\\Users\\Tuhin Roy\\anaconda3\\lib\\site-packages\\keras\\backend\\tensorflow_backend.py:206: The name tf.variables_initializer is deprecated. Please use tf.compat.v1.variables_initializer instead.\n",
      "\n"
     ]
    },
    {
     "name": "stderr",
     "output_type": "stream",
     "text": [
      "Analyzing:   0%|                                                                                 | 0/1 [00:00<?, ?it/s]\n",
      "Finding actions:   0%|                                                                           | 0/2 [00:00<?, ?it/s]\u001b[A\n",
      "Action: age:   0%|                                                                               | 0/2 [00:00<?, ?it/s]\u001b[A\n",
      "Action: age:  50%|███████████████████████████████████▌                                   | 1/2 [00:01<00:01,  1.17s/it]\u001b[A\n",
      "Action: gender:  50%|██████████████████████████████████                                  | 1/2 [00:01<00:01,  1.17s/it]\u001b[A\n",
      "Action: gender: 100%|████████████████████████████████████████████████████████████████████| 2/2 [00:01<00:00,  1.02it/s]\u001b[A\n",
      "Analyzing:   0%|                                                                                 | 0/1 [00:01<?, ?it/s]\n"
     ]
    }
   ],
   "source": [
    "faceCascade=cv2.CascadeClassifier(cv2.data.haarcascades + 'haarcascade_frontalface_alt2.xml')\n",
    "frame=cv2.imread(\"test.jpg\")\n",
    "result=DeepFace.analyze(frame,actions=[\"age\",\"gender\"])\n",
    "rgb=cv2.cvtColor(frame,cv2.COLOR_BGR2RGB)\n",
    "faces=faceCascade.detectMultiScale(rgb,1.1,3)\n",
    "for (x,y,w,h) in faces:\n",
    "    face_img=frame[y:y+h,x:x+w]\n",
    "    pred_age=int(result[\"age\"])\n",
    "    age=str(pred_age)\n",
    "    pred_gender=result[\"gender\"]\n",
    "    if (pred_gender==\"Woman\"):\n",
    "        gender=\"Female\"\n",
    "    else:\n",
    "        gender=\"Male\"\n",
    "    prediction=\"Sex:\"+gender+\" , \"+\"Age:\"+age\n",
    "    cv2.rectangle(frame,(x,y),(x+w,y+h),(255,255,255),2)\n",
    "    cv2.putText(frame,prediction,(x,y-10),cv2.FONT_HERSHEY_SIMPLEX,0.75,(255,255,255),2)\n",
    "cv2.imshow(\"Face Mask Detection\",frame)\n",
    "cv2.waitKey()\n",
    "cv2.destroyAllWindows()"
   ]
  },
  {
   "cell_type": "code",
   "execution_count": null,
   "metadata": {},
   "outputs": [],
   "source": []
  }
 ],
 "metadata": {
  "kernelspec": {
   "display_name": "Python 3",
   "language": "python",
   "name": "python3"
  },
  "language_info": {
   "codemirror_mode": {
    "name": "ipython",
    "version": 3
   },
   "file_extension": ".py",
   "mimetype": "text/x-python",
   "name": "python",
   "nbconvert_exporter": "python",
   "pygments_lexer": "ipython3",
   "version": "3.7.6"
  }
 },
 "nbformat": 4,
 "nbformat_minor": 4
}
