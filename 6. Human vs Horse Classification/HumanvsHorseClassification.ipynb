{
 "cells": [
  {
   "cell_type": "code",
   "execution_count": 2,
   "metadata": {
    "scrolled": false
   },
   "outputs": [
    {
     "name": "stdout",
     "output_type": "stream",
     "text": [
      "Found 1027 images belonging to 2 classes.\n",
      "Found 256 images belonging to 2 classes.\n",
      "WARNING:tensorflow:From C:\\Users\\Tuhin Roy\\anaconda3\\lib\\site-packages\\keras\\backend\\tensorflow_backend.py:4070: The name tf.nn.max_pool is deprecated. Please use tf.nn.max_pool2d instead.\n",
      "\n",
      "WARNING:tensorflow:From C:\\Users\\Tuhin Roy\\anaconda3\\lib\\site-packages\\tensorflow\\python\\ops\\nn_impl.py:180: add_dispatch_support.<locals>.wrapper (from tensorflow.python.ops.array_ops) is deprecated and will be removed in a future version.\n",
      "Instructions for updating:\n",
      "Use tf.where in 2.0, which has the same broadcast rule as np.where\n",
      "WARNING:tensorflow:From C:\\Users\\Tuhin Roy\\anaconda3\\lib\\site-packages\\keras\\backend\\tensorflow_backend.py:422: The name tf.global_variables is deprecated. Please use tf.compat.v1.global_variables instead.\n",
      "\n",
      "Epoch 1/10\n",
      "33/33 [==============================] - 12s 356ms/step - loss: 0.6570 - accuracy: 0.5959 - val_loss: 0.5777 - val_accuracy: 0.5000\n",
      "Epoch 2/10\n",
      "33/33 [==============================] - 10s 316ms/step - loss: 0.5164 - accuracy: 0.7352 - val_loss: 0.5815 - val_accuracy: 0.8086\n",
      "Epoch 3/10\n",
      "33/33 [==============================] - 11s 322ms/step - loss: 0.2919 - accuracy: 0.8695 - val_loss: 1.0050 - val_accuracy: 0.7773\n",
      "Epoch 4/10\n",
      "33/33 [==============================] - 10s 317ms/step - loss: 0.2178 - accuracy: 0.9026 - val_loss: 0.6740 - val_accuracy: 0.8164\n",
      "Epoch 5/10\n",
      "33/33 [==============================] - 11s 331ms/step - loss: 0.1337 - accuracy: 0.9513 - val_loss: 0.6916 - val_accuracy: 0.7812\n",
      "Epoch 6/10\n",
      "33/33 [==============================] - 11s 347ms/step - loss: 0.0945 - accuracy: 0.9649 - val_loss: 0.5947 - val_accuracy: 0.8672\n",
      "Epoch 7/10\n",
      "33/33 [==============================] - 10s 311ms/step - loss: 0.0804 - accuracy: 0.9747 - val_loss: 1.5888 - val_accuracy: 0.8203\n",
      "Epoch 8/10\n",
      "33/33 [==============================] - 10s 309ms/step - loss: 0.0853 - accuracy: 0.9708 - val_loss: 0.5383 - val_accuracy: 0.8203\n",
      "Epoch 9/10\n",
      "33/33 [==============================] - 12s 374ms/step - loss: 0.0647 - accuracy: 0.9796 - val_loss: 1.4627 - val_accuracy: 0.8320\n",
      "Epoch 10/10\n",
      "33/33 [==============================] - 12s 356ms/step - loss: 0.0313 - accuracy: 0.9922 - val_loss: 0.9429 - val_accuracy: 0.8633\n"
     ]
    },
    {
     "data": {
      "text/plain": [
       "<keras.callbacks.callbacks.History at 0x1fe72816c08>"
      ]
     },
     "execution_count": 2,
     "metadata": {},
     "output_type": "execute_result"
    }
   ],
   "source": [
    "import keras\n",
    "from keras.preprocessing.image import ImageDataGenerator\n",
    "from keras.models import Sequential\n",
    "from keras.layers import Dense\n",
    "from keras.layers import Conv2D\n",
    "from keras.layers import MaxPool2D\n",
    "from keras.layers import Flatten\n",
    "train_datagen=ImageDataGenerator(rescale=1./255,shear_range=0.2,zoom_range=0.2,horizontal_flip=True)\n",
    "train_set=train_datagen.flow_from_directory('C:/Users/Tuhin Roy/Downloads/horse-or-human/train',batch_size=32,class_mode='binary',target_size=(64,64))\n",
    "test_datagen=ImageDataGenerator(rescale=1./255)\n",
    "test_set=test_datagen.flow_from_directory('C:/Users/Tuhin Roy/Downloads/horse-or-human/validation',batch_size=32,class_mode='binary',target_size=(64,64))\n",
    "cnn=Sequential()\n",
    "cnn.add(Conv2D(filters=32,kernel_size=(3,3),activation=\"relu\",input_shape=[64,64,3]))\n",
    "cnn.add(MaxPool2D(pool_size=(3,3),strides=(2,2)))\n",
    "cnn.add(Conv2D(filters=32,kernel_size=(3,3),activation=\"relu\"))\n",
    "cnn.add(MaxPool2D(pool_size=(3,3),strides=(2,2)))\n",
    "cnn.add(Conv2D(filters=32,kernel_size=(3,3),activation=\"relu\"))\n",
    "cnn.add(MaxPool2D(pool_size=(3,3),strides=(2,2)))\n",
    "cnn.add(Conv2D(filters=32,kernel_size=(3,3),activation=\"relu\"))\n",
    "cnn.add(MaxPool2D(pool_size=(3,3),strides=(2,2)))\n",
    "cnn.add(Flatten())\n",
    "cnn.add(Dense(units=128,activation=\"relu\"))\n",
    "cnn.add(Dense(units=1,activation=\"sigmoid\"))\n",
    "cnn.compile(optimizer=\"adam\",loss=\"binary_crossentropy\",metrics=[\"accuracy\"])\n",
    "cnn.fit_generator(train_set,epochs=10,validation_data=test_set)"
   ]
  },
  {
   "cell_type": "code",
   "execution_count": 33,
   "metadata": {},
   "outputs": [
    {
     "name": "stdout",
     "output_type": "stream",
     "text": [
      "Prediction : It is a human\n"
     ]
    }
   ],
   "source": [
    "import cv2\n",
    "import numpy as np\n",
    "from keras.preprocessing import image\n",
    "path=\"C:/Users/Tuhin Roy/Desktop/8.png\"\n",
    "images = image.load_img(path,target_size=(64,64))\n",
    "images = image.img_to_array(images)\n",
    "images = np.expand_dims(images,axis=0)\n",
    "images = np.vstack([images])\n",
    "prediction = cnn.predict(images)\n",
    "train_set.class_indices\n",
    "if (prediction == 1):\n",
    "    print(\"Prediction : It is a human\")\n",
    "else:\n",
    "    print(\"Prediction : It is a horse\")\n",
    "test_image=cv2.imread(path)\n",
    "window_name='Image'\n",
    "cv2.imshow(window_name,test_image)\n",
    "cv2.waitKey(0)\n",
    "cv2.destroyAllWindows()"
   ]
  }
 ],
 "metadata": {
  "kernelspec": {
   "display_name": "Python 3",
   "language": "python",
   "name": "python3"
  },
  "language_info": {
   "codemirror_mode": {
    "name": "ipython",
    "version": 3
   },
   "file_extension": ".py",
   "mimetype": "text/x-python",
   "name": "python",
   "nbconvert_exporter": "python",
   "pygments_lexer": "ipython3",
   "version": "3.7.6"
  }
 },
 "nbformat": 4,
 "nbformat_minor": 4
}
