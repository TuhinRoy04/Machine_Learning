{
 "cells": [
  {
   "cell_type": "code",
   "execution_count": null,
   "metadata": {},
   "outputs": [],
   "source": [
    "class_names=['T-shirt/top','Trouser','Pullover','Dress','Coat','Sandal','Shirt','Sneaker','Bag','Ankle boot']"
   ]
  },
  {
   "cell_type": "code",
   "execution_count": null,
   "metadata": {},
   "outputs": [],
   "source": [
    "import numpy as np\n",
    "import matplotlib.pyplot as plt\n",
    "from keras.utils import np_utils\n",
    "from keras.datasets import fashion_mnist\n",
    "from keras.models import Sequential\n",
    "from keras.layers import Dropout,Flatten,Conv2D,MaxPool2D,Dense\n",
    "(X_train,y_train),(X_test,y_test)=fashion_mnist.load_data()\n",
    "X_train=X_train.reshape(X_train.shape[0],28,28,1)\n",
    "X_test=X_test.reshape(X_test.shape[0],28,28,1)\n",
    "X_train=X_train.astype(\"float32\")\n",
    "X_test=X_test.astype(\"float32\")\n",
    "X_train/=255\n",
    "X_test/=255\n",
    "Y_train=np_utils.to_categorical(y_train,10)\n",
    "Y_test=np_utils.to_categorical(y_test,10)\n",
    "model=Sequential()\n",
    "model.add(Conv2D(filters=50,kernel_size=(3,3),strides=(2,2),activation=\"relu\",input_shape=(28,28,1)))\n",
    "model.add(MaxPool2D(pool_size=(2,2),strides=(1,1)))\n",
    "model.add(Dropout(0.2))\n",
    "model.add(Conv2D(filters=50,kernel_size=(3,3),strides=(2,2),activation=\"relu\"))\n",
    "model.add(MaxPool2D(pool_size=(2,2),strides=(1,1)))\n",
    "model.add(Dropout(0.2))\n",
    "model.add(Flatten())\n",
    "model.add(Dense(128,activation=\"relu\"))\n",
    "model.add(Dense(64,activation=\"relu\"))\n",
    "model.add(Dense(10,activation=\"softmax\"))\n",
    "model.summary()\n",
    "model.compile(optimizer=\"adam\",loss=\"sparse_categorical_crossentropy\",metrics=[\"accuracy\"])\n",
    "model.fit(X_train,y_train,batch_size=32,epochs=20)"
   ]
  },
  {
   "cell_type": "code",
   "execution_count": null,
   "metadata": {},
   "outputs": [],
   "source": [
    "train_loss,train_accuracy=model.evaluate(X_train,y_train)\n",
    "test_loss,test_accuracy=model.evaluate(X_test,y_test)\n",
    "print(\"Train data accuracy :\",train_accuracy*100)\n",
    "print(\"Test data accuracy :\",test_accuracy*100)"
   ]
  },
  {
   "cell_type": "code",
   "execution_count": null,
   "metadata": {
    "scrolled": false
   },
   "outputs": [],
   "source": [
    "prediction=model.predict(X_test)\n",
    "for index in range (1,31):\n",
    "    image=X_test[index].reshape((28,28))\n",
    "    plt.imshow(image,cmap=\"binary\")\n",
    "    plt.show()\n",
    "    print(\"    Result :\",class_names[np.argmax(prediction[index])],',',(np.max(prediction[index])*100).round(2),\"%\")\n",
    "    index+=1"
   ]
  }
 ],
 "metadata": {
  "kernelspec": {
   "display_name": "Python 3",
   "language": "python",
   "name": "python3"
  },
  "language_info": {
   "codemirror_mode": {
    "name": "ipython",
    "version": 3
   },
   "file_extension": ".py",
   "mimetype": "text/x-python",
   "name": "python",
   "nbconvert_exporter": "python",
   "pygments_lexer": "ipython3",
   "version": "3.7.6"
  }
 },
 "nbformat": 4,
 "nbformat_minor": 4
}
