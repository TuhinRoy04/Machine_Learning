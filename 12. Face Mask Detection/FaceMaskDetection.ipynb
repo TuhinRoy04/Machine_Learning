{
 "cells": [
  {
   "cell_type": "markdown",
   "metadata": {},
   "source": [
    "# Import necessary libraries"
   ]
  },
  {
   "cell_type": "code",
   "execution_count": null,
   "metadata": {},
   "outputs": [],
   "source": [
    "import os\n",
    "import numpy as np\n",
    "from imutils import paths\n",
    "from keras.models import Model\n",
    "from keras.layers import AveragePooling2D,Dense,Dropout,Flatten\n",
    "from keras.applications import MobileNetV2\n",
    "from keras.applications.mobilenet_v2 import preprocess_input\n",
    "from sklearn.model_selection import train_test_split\n",
    "from keras.preprocessing.image import load_img,img_to_array\n",
    "from keras.utils import to_categorical\n",
    "from sklearn.preprocessing import LabelBinarizer"
   ]
  },
  {
   "cell_type": "markdown",
   "metadata": {},
   "source": [
    "# Training of the model"
   ]
  },
  {
   "cell_type": "code",
   "execution_count": null,
   "metadata": {},
   "outputs": [],
   "source": [
    "base_dir=r\"C:/Users/Tuhin Roy/Downloads/dataset\"\n",
    "categories=[\"with_mask\",\"without_mask\"]\n",
    "data=[]\n",
    "labels=[]\n",
    "for cat in categories:\n",
    "    path=os.path.join(base_dir,cat)\n",
    "    for img in os.listdir(path):\n",
    "        img_path=os.path.join(path,img)\n",
    "        images=load_img(img_path,target_size=(224,224))\n",
    "        images=img_to_array(images)\n",
    "        images=preprocess_input(images)\n",
    "        data.append(images)\n",
    "        labels.append(cat)\n",
    "\n",
    "lb=LabelBinarizer()\n",
    "labels=lb.fit_transform(labels)\n",
    "labels=to_categorical(labels)\n",
    "\n",
    "data=np.array(data,dtype=\"float32\")\n",
    "labels=np.array(labels)\n",
    "\n",
    "X_train,X_test,y_train,y_test=train_test_split(data,labels,stratify=labels,test_size=0.2,random_state=42)\n",
    "\n",
    "baseModel=MobileNetV2(input_shape=(224,224,3),include_top=False,weights='imagenet')\n",
    "headModel=baseModel.output\n",
    "headModel=AveragePooling2D(pool_size=(7,7))(headModel)\n",
    "headModel=Flatten(name=\"flatten\")(headModel)\n",
    "headModel=Dense(128,activation=\"relu\")(headModel)\n",
    "headModel=Dropout(0.5)(headModel)\n",
    "headModel=Dense(2,activation=\"softmax\")(headModel)\n",
    "model=Model(inputs=baseModel.input,outputs=headModel)\n",
    "for layer in baseModel.layers:\n",
    "    layer.trainable=False\n",
    "model.compile(optimizer=\"adam\",loss=\"binary_crossentropy\",metrics=[\"accuracy\"])\n",
    "model.fit(X_train,y_train,validation_data=(X_test,y_test),epochs=20)\n",
    "\n",
    "model.save(\"mask_recog.h5\")"
   ]
  },
  {
   "cell_type": "markdown",
   "metadata": {},
   "source": [
    "# Load model"
   ]
  },
  {
   "cell_type": "code",
   "execution_count": null,
   "metadata": {},
   "outputs": [],
   "source": [
    "import cv2\n",
    "from keras.models import load_model\n",
    "model=load_model(\"mask_detection.h5\")"
   ]
  },
  {
   "cell_type": "markdown",
   "metadata": {},
   "source": [
    "# Image Face Mask Detection"
   ]
  },
  {
   "cell_type": "code",
   "execution_count": null,
   "metadata": {},
   "outputs": [],
   "source": [
    "faceCascade=cv2.CascadeClassifier(cv2.data.haarcascades + 'haarcascade_frontalface_alt2.xml')\n",
    "labels_dict={1:\"No Mask\",0:\"Mask\"}\n",
    "color_dict={0:(0,255,0),1:(0,0,255)}\n",
    "frame=cv2.imread(\"test2.jpg\")\n",
    "rgb=cv2.cvtColor(frame,cv2.COLOR_BGR2RGB)\n",
    "faces=faceCascade.detectMultiScale(rgb,1.1,3)\n",
    "for (x,y,w,h) in faces:\n",
    "    face_img=frame[y:y+h,x:x+w]\n",
    "    images=cv2.resize(face_img,(224,224))\n",
    "    images=img_to_array(images)\n",
    "    images=preprocess_input(images)\n",
    "    images=np.array([images],dtype=\"float32\")\n",
    "    pred=model.predict(images)\n",
    "    label=np.argmax(pred,axis=1)[0]\n",
    "    percen=str(\" : \")+str((np.max(pred)*100).round(2))+str(\"%\")\n",
    "    cv2.rectangle(frame,(x,y),(x+w,y+h),color_dict[label],2)\n",
    "    if (label==1):\n",
    "        cv2.putText(frame,labels_dict[label],(x,y-10),cv2.FONT_HERSHEY_SIMPLEX,0.5,(0,0,255),2)\n",
    "        cv2.putText(frame,percen,(x+70,y-10),cv2.FONT_HERSHEY_SIMPLEX,0.5,(0,0,255),2)\n",
    "    else:\n",
    "        cv2.putText(frame,labels_dict[label],(x,y-10),cv2.FONT_HERSHEY_SIMPLEX,0.5,(0,255,0),2)\n",
    "        cv2.putText(frame,percen,(x+40,y-10),cv2.FONT_HERSHEY_SIMPLEX,0.5,(0,255,0),2)\n",
    "cv2.imshow(\"Face Mask Detection\",frame)\n",
    "cv2.waitKey()\n",
    "cv2.destroyAllWindows()"
   ]
  },
  {
   "cell_type": "markdown",
   "metadata": {},
   "source": [
    "# Real-time Face Mask Detection"
   ]
  },
  {
   "cell_type": "code",
   "execution_count": null,
   "metadata": {},
   "outputs": [],
   "source": [
    "cascade=cv2.CascadeClassifier(cv2.data.haarcascades + 'haarcascade_frontalface_alt2.xml')\n",
    "labels_dict={0:\"MASK\",1:\"NO MASK\"}\n",
    "color_dict={0:(0,255,0),1:(0,0,255)}\n",
    "cap=cv2.VideoCapture(0)\n",
    "while(True):\n",
    "    _,img=cap.read()\n",
    "    gray=cv2.cvtColor(img,cv2.COLOR_BGR2RGB)\n",
    "    faces=cascade.detectMultiScale(gray,1.1,3)\n",
    "    for (x,y,w,h) in faces:\n",
    "        face_img=img[y:y+w,x:x+w]\n",
    "        image=cv2.resize(face_img,(224,224))\n",
    "        image=img_to_array(image)\n",
    "        image=preprocess_input(image)\n",
    "        image=np.array([image],dtype=\"float32\")\n",
    "        pred=model.predict(image)\n",
    "        sed=str(\" : \")+str((np.max(pred)*100).round(2))+str(\"%\")\n",
    "        label=np.argmax(pred,axis=1)[0]\n",
    "        cv2.rectangle(img,(x,y),(x+w,y+h),color_dict[label],2)\n",
    "        if (label==1):\n",
    "            cv2.putText(img,labels_dict[label],(x,y-10),cv2.FONT_HERSHEY_SIMPLEX,0.5,(0,0,255),2)\n",
    "            cv2.putText(img,sed,(x+70,y-10),cv2.FONT_HERSHEY_SIMPLEX,0.5,(0,0,255),2)\n",
    "        else:\n",
    "            cv2.putText(img,labels_dict[label],(x,y-10),cv2.FONT_HERSHEY_SIMPLEX,0.5,(0,255,0),2)\n",
    "            cv2.putText(img,sed,(x+40,y-10),cv2.FONT_HERSHEY_SIMPLEX,0.5,(0,255,0),2)\n",
    "    cv2.imshow(\"Face Mask Detection\",img)\n",
    "    if cv2.waitKey(1) & 0XFF==ord('q'):\n",
    "        break\n",
    "cap.release()\n",
    "cv2.destroyAllWindows()"
   ]
  }
 ],
 "metadata": {
  "kernelspec": {
   "display_name": "Python 3",
   "language": "python",
   "name": "python3"
  },
  "language_info": {
   "codemirror_mode": {
    "name": "ipython",
    "version": 3
   },
   "file_extension": ".py",
   "mimetype": "text/x-python",
   "name": "python",
   "nbconvert_exporter": "python",
   "pygments_lexer": "ipython3",
   "version": "3.7.6"
  }
 },
 "nbformat": 4,
 "nbformat_minor": 4
}
