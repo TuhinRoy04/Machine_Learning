{
 "cells": [
  {
   "cell_type": "code",
   "execution_count": 65,
   "metadata": {},
   "outputs": [
    {
     "name": "stdout",
     "output_type": "stream",
     "text": [
      "Enter your review : Sholay is one of the best Indian film ever made. Every cast fits the role to perfection be it Amitabh Bacchan as Jai or Dharmendra as Virru or Asrani as the hilarious cop or..... The list is never ending. A movie worth watching 100 times with some great music stuff from R.D. Burman. Action Scenes are the best ever made in Indian History. The climax was wonderful. The late legendary actor Amjad Khan as notorious Dacoit Gabbar Singh is Phenomenal, Menacing and Excellent. Hema Malini and Jaya Bacchan acted really very well. Sanjeev Kumar as Thakur Baldev Singh was the second reason for the film'es stupendous success. Asrani and Jagdeep were really humourous. Their jokes are remembered until today. R.D. Burman gives great music to the film. This is the greatest movie ever made.\n",
      "\n",
      "Result : Positive Sentiment 😃\n"
     ]
    }
   ],
   "source": [
    "import re\n",
    "import nltk\n",
    "import pandas as pd\n",
    "from nltk.corpus import stopwords\n",
    "from sklearn.naive_bayes import MultinomialNB\n",
    "from sklearn.preprocessing import LabelEncoder\n",
    "from sklearn.model_selection import train_test_split\n",
    "from sklearn.feature_extraction.text import CountVectorizer\n",
    "df=pd.read_csv(\"review.csv\")\n",
    "sw=stopwords.words(\"english\")\n",
    "def clean_text(sample):\n",
    "    sample=sample.lower()\n",
    "    sample=sample.replace(\"<br /><br />\",\"\")\n",
    "    sample=re.sub(\"[^a-z]+\",\" \",sample)\n",
    "    sample=sample.split(\" \")\n",
    "    sample=[word for word in sample if word not in sw]\n",
    "    sample=\" \".join(sample)\n",
    "    return sample\n",
    "df[\"review\"]=df[\"review\"].apply(clean_text)\n",
    "X=df[\"review\"].values\n",
    "y=df[\"label\"].values\n",
    "X_train,X_test,y_train,y_test=train_test_split(X,y,test_size=0.25,random_state=20)\n",
    "le=LabelEncoder()\n",
    "y_train=le.fit_transform(y_train)\n",
    "y_test=le.transform(y_test)\n",
    "cv=CountVectorizer(max_features=10000)\n",
    "X_train=cv.fit_transform(X_train)\n",
    "X_test=cv.transform(X_test)\n",
    "model=MultinomialNB()\n",
    "model.fit(X_train,y_train)\n",
    "review=str(input(\"Enter your review : \"))\n",
    "clean_review=clean_text(review)\n",
    "review_cv=cv.transform([clean_review])\n",
    "prediction=model.predict(review_cv)\n",
    "if (prediction==1):\n",
    "    print(\"\\nResult : Positive Sentiment\",\"\\U0001F603\")\n",
    "else:\n",
    "    print(\"\\nResult : Negative Sentiment\",\"\\U0001F613\")"
   ]
  }
 ],
 "metadata": {
  "kernelspec": {
   "display_name": "Python 3",
   "language": "python",
   "name": "python3"
  },
  "language_info": {
   "codemirror_mode": {
    "name": "ipython",
    "version": 3
   },
   "file_extension": ".py",
   "mimetype": "text/x-python",
   "name": "python",
   "nbconvert_exporter": "python",
   "pygments_lexer": "ipython3",
   "version": "3.7.6"
  }
 },
 "nbformat": 4,
 "nbformat_minor": 4
}
